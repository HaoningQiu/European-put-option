{
 "cells": [
  {
   "cell_type": "markdown",
   "metadata": {
    "deletable": false,
    "editable": false,
    "nbgrader": {
     "cell_type": "markdown",
     "checksum": "ade8f893f5f42e73ec22db504fa0ca98",
     "grade": false,
     "grade_id": "cell-d0bba192bfd4aa54",
     "locked": true,
     "schema_version": 3,
     "solution": false,
     "task": false
    }
   },
   "source": [
    "# Problem 1 (15 points)\n",
    "Let $S(T)=S(0)\\exp{(\\sigma\\sqrt{T}Z+(r-\\frac{1}{2}\\sigma^2)T)}$ be the final stock price value in the Black-Scholes model and $Z\\sim\\mathcal{N}(0, 1)$.  \n",
    "Set $$\\theta=E^*[(K-S(T))^+].$$ Then the arbitrage free initial price for this put option is $e^{-rT}\\theta$."
   ]
  },
  {
   "cell_type": "markdown",
   "metadata": {
    "deletable": false,
    "editable": false,
    "nbgrader": {
     "cell_type": "markdown",
     "checksum": "979446ee5d25429ddd051ea0eed5e4bf",
     "grade": false,
     "grade_id": "cell-0583791b000f425a",
     "locked": true,
     "schema_version": 3,
     "solution": false,
     "task": false
    }
   },
   "source": [
    "(a). Estimate the value of $\\theta$ using standard Monte Carlo simulation. "
   ]
  },
  {
   "cell_type": "code",
   "execution_count": 1,
   "metadata": {
    "deletable": false,
    "editable": false,
    "nbgrader": {
     "cell_type": "code",
     "checksum": "4c7bc4bc6ae65c863cd83a7b4db9b2a2",
     "grade": false,
     "grade_id": "cell-9e21b86a0307a9b5",
     "locked": true,
     "schema_version": 3,
     "solution": false,
     "task": false
    }
   },
   "outputs": [],
   "source": [
    "import numpy as np"
   ]
  },
  {
   "cell_type": "code",
   "execution_count": 2,
   "metadata": {
    "deletable": false,
    "nbgrader": {
     "cell_type": "code",
     "checksum": "f60307be36372f16f5622a9531fe7674",
     "grade": false,
     "grade_id": "cell-5ccb844d0f20854e",
     "locked": false,
     "schema_version": 3,
     "solution": true,
     "task": false
    }
   },
   "outputs": [],
   "source": [
    "# Write a function to estimate theta and estimate the variance of the \\hat{theta}_n\n",
    "# using Monte Carlo simulation with sample size n\n",
    "\n",
    "def MC_est(T, r, sig, S0, K, n, seed):\n",
    "    \"\"\"\n",
    "    input: \n",
    "        T: Maturity Time\n",
    "        r: Risk-free interest rate\n",
    "        sig: volatility\n",
    "        S0: Current stock price\n",
    "        K: Strike price\n",
    "        n: sample size of Monte Carlo simulation\n",
    "        seed: random seed\n",
    "    -------------------------------\n",
    "    output: (a 1-dim numpy array) -- similar as np.numpy([est_theta, est_var])\n",
    "            first element in the array:\n",
    "                estimation on the value of E^*[(K-S(T))^+] for European put option;\n",
    "            second element in the array:\n",
    "                estimation on the variance of the estimator\n",
    "            \n",
    "    \"\"\"\n",
    "    np.random.seed(seed)\n",
    "    # YOUR CODE HERE\n",
    "    Z = np.random.randn(n)\n",
    "    S_t = S0*np.exp(sig*np.sqrt(T)*Z+(r-0.5*sig**2)*T)\n",
    "    x = np.maximum((K - S_t), 0)\n",
    "    est_theta = np.mean(x)\n",
    "    var_theta = np.var(x,ddof = 1)/n\n",
    "    \n",
    "    return np.array([est_theta,var_theta])"
   ]
  },
  {
   "cell_type": "code",
   "execution_count": 3,
   "metadata": {
    "deletable": false,
    "editable": false,
    "nbgrader": {
     "cell_type": "code",
     "checksum": "8c4666c7e0ffa22216b49777d9866fe0",
     "grade": true,
     "grade_id": "cell-80cff566f7ae2d17",
     "locked": true,
     "points": 2,
     "schema_version": 3,
     "solution": false,
     "task": false
    }
   },
   "outputs": [],
   "source": [
    "\"\"\"Check your estimation on the value of theta, i.e. \\hat{\\theta}_n\"\"\"\n",
    "assert round(MC_est(2, 0.01, 0.2, 5, 6, 1000, 123)[0], 2) == 1.21\n"
   ]
  },
  {
   "cell_type": "code",
   "execution_count": 4,
   "metadata": {
    "deletable": false,
    "editable": false,
    "nbgrader": {
     "cell_type": "code",
     "checksum": "42a6b9e6405f2c60a7b7297534fd09ad",
     "grade": true,
     "grade_id": "cell-03bda73226fb80ba",
     "locked": true,
     "points": 3,
     "schema_version": 3,
     "solution": false,
     "task": false
    }
   },
   "outputs": [],
   "source": [
    "\"\"\"Check your estimation on the variance of \\hat{theta}_n\"\"\"\n",
    "assert round(MC_est(2, 0.01, 0.2, 5, 6, 1000, 123)[1], 5) == 0.00102\n"
   ]
  },
  {
   "cell_type": "markdown",
   "metadata": {
    "deletable": false,
    "editable": false,
    "nbgrader": {
     "cell_type": "markdown",
     "checksum": "dfd4c768eade9f20d9288aa68e73f3b7",
     "grade": false,
     "grade_id": "cell-5066edba84d39ac6",
     "locked": true,
     "schema_version": 3,
     "solution": false,
     "task": false
    }
   },
   "source": [
    "(b) Use the method of antithetic variables to estimate $\\theta$. Write a function to estimate $\\theta$ (calling the estimator $\\hat{\\theta}_{av}$). Also estimate the variance of $\\hat{\\theta}_{av}$. "
   ]
  },
  {
   "cell_type": "markdown",
   "metadata": {
    "deletable": false,
    "editable": false,
    "nbgrader": {
     "cell_type": "markdown",
     "checksum": "9e1fbdc2cad12e5578fd28f45654b527",
     "grade": false,
     "grade_id": "cell-0bb972c07505e69f",
     "locked": true,
     "schema_version": 3,
     "solution": false,
     "task": false
    }
   },
   "source": [
    "Rewrite the estimator as $\\theta = \\mathbb{E}^*[g(Z)]$.  The next function you write will be essentially $g$.  Once you find what $g$ is, show that $g$ is a decreasing function on paper and turn it via Gradescope (hint: taking derivative, we have two regions since $(K-S(t))^+$)."
   ]
  },
  {
   "cell_type": "code",
   "execution_count": 5,
   "metadata": {
    "deletable": false,
    "editable": false,
    "nbgrader": {
     "cell_type": "code",
     "checksum": "c8797b33817edba33096231da95c9fd9",
     "grade": false,
     "grade_id": "cell-245c9ea49dbf3e19",
     "locked": true,
     "schema_version": 3,
     "solution": false,
     "task": false
    }
   },
   "outputs": [],
   "source": [
    "# Generate antithetic variables (Z, -Z) for computing E[g(Z)] step by step\n",
    "# Set a set of parameter first\n",
    "T = 2\n",
    "r = 0.01\n",
    "sig = 0.2\n",
    "S0 = 5\n",
    "K = 6\n",
    "n = 1000"
   ]
  },
  {
   "cell_type": "markdown",
   "metadata": {
    "deletable": false,
    "editable": false,
    "nbgrader": {
     "cell_type": "markdown",
     "checksum": "01cdc886f3ad82011625e7b2e36ac3d5",
     "grade": false,
     "grade_id": "cell-223b7049a7ef187f",
     "locked": true,
     "schema_version": 3,
     "solution": false,
     "task": false
    }
   },
   "source": [
    "Here are the steps that we will use to create the antithetic variable estimator:\n",
    "\n",
    "1. generate int(n/2) samples to form Z1\n",
    "2. write g function to simplify our steps later\n",
    "3. compute g(Z_anti) as  $\\frac{g(Z1) + g(-Z1)}{2}$\n",
    "4. calculate AV_est_theta (estimating with antithetic variables) and AV_var_theta (estimating the variance of the estimator); AV is short for \"antithetic variable\"."
   ]
  },
  {
   "cell_type": "code",
   "execution_count": 6,
   "metadata": {
    "deletable": false,
    "nbgrader": {
     "cell_type": "code",
     "checksum": "f0adbf4f99c9db4b54bbd6bbf02aab23",
     "grade": false,
     "grade_id": "cell-507ca3dcfa903d18",
     "locked": false,
     "schema_version": 3,
     "solution": true,
     "task": false
    }
   },
   "outputs": [],
   "source": [
    "np.random.seed(123) # Do not modify the seed here!!!\n",
    "# Do Step 1 here in one line\n",
    "# YOUR CODE HERE\n",
    "Z1 = np.random.randn(int(n/2))"
   ]
  },
  {
   "cell_type": "code",
   "execution_count": 7,
   "metadata": {
    "deletable": false,
    "nbgrader": {
     "cell_type": "code",
     "checksum": "4f73babe2b56473fdc11ca0d6755814a",
     "grade": false,
     "grade_id": "g_put_option",
     "locked": false,
     "schema_version": 3,
     "solution": true,
     "task": false
    }
   },
   "outputs": [],
   "source": [
    "# Do Step 2 here\n",
    "# write the g as function taking parameters: x, K, sig, r, T, S0 here\n",
    "\n",
    "def g(x, K, sig, r, T, S0):\n",
    "    \"\"\"\n",
    "    output: \n",
    "        function value: g(x)\n",
    "    \"\"\"\n",
    "    # YOUR CODE HERE\n",
    "    \n",
    "    S_t = S0*np.exp(sig*np.sqrt(T)*x+(r-0.5*sig**2)*T)\n",
    "    x = np.maximum((K - S_t), 0)\n",
    "    \n",
    "    return x\n"
   ]
  },
  {
   "cell_type": "code",
   "execution_count": 8,
   "metadata": {
    "deletable": false,
    "editable": false,
    "nbgrader": {
     "cell_type": "code",
     "checksum": "426c20ca5f8b6d7a74fa7f7ca436dcb9",
     "grade": true,
     "grade_id": "cell-601e9ae6d476bbb2",
     "locked": true,
     "points": 1,
     "schema_version": 3,
     "solution": false,
     "task": false
    }
   },
   "outputs": [],
   "source": [
    "\"\"\"Check your g function\"\"\"\n",
    "assert round(g(0, K, sig, r, T, S0), 2) == 1.10"
   ]
  },
  {
   "cell_type": "code",
   "execution_count": 9,
   "metadata": {
    "deletable": false,
    "nbgrader": {
     "cell_type": "code",
     "checksum": "5f20c6e84c04cf025c32f3348a809e70",
     "grade": false,
     "grade_id": "step3",
     "locked": false,
     "schema_version": 3,
     "solution": true,
     "task": false
    }
   },
   "outputs": [],
   "source": [
    "# Do Step 3 here: Calculate gZ_anti by calling the function g\n",
    "# YOUR CODE HERE\n",
    "gZ_anti = 0.5*(g(Z1, K, sig, r, T, S0)+g(-Z1, K, sig, r, T, S0))"
   ]
  },
  {
   "cell_type": "code",
   "execution_count": 10,
   "metadata": {
    "deletable": false,
    "nbgrader": {
     "cell_type": "code",
     "checksum": "42ef02d131325cd5e88d9170d447a588",
     "grade": false,
     "grade_id": "step4",
     "locked": false,
     "schema_version": 3,
     "solution": true,
     "task": false
    }
   },
   "outputs": [],
   "source": [
    "# Do Step 4 here: AV_est_theta (estimated mean); AV_var_theta (estimated variance of the estimator)\n",
    "# YOUR CODE HERE\n",
    "AV_est_theta = np.mean(gZ_anti)\n",
    "AV_var_theta = np.var(gZ_anti,ddof = 1)/len(gZ_anti)"
   ]
  },
  {
   "cell_type": "code",
   "execution_count": 11,
   "metadata": {
    "deletable": false,
    "editable": false,
    "nbgrader": {
     "cell_type": "code",
     "checksum": "d48bc5c0815c732d7385f1020aa0f7da",
     "grade": true,
     "grade_id": "cell-7b7505d4c4b06a9f",
     "locked": true,
     "points": 2,
     "schema_version": 3,
     "solution": false,
     "task": false
    }
   },
   "outputs": [],
   "source": [
    "\"\"\"Check your anwser here\"\"\"\n",
    "assert round(AV_est_theta,2) == 1.18\n",
    "assert round(AV_var_theta,5) == 7e-05"
   ]
  },
  {
   "cell_type": "code",
   "execution_count": 12,
   "metadata": {
    "deletable": false,
    "nbgrader": {
     "cell_type": "code",
     "checksum": "cd994aa45272870492ac8c0301478562",
     "grade": false,
     "grade_id": "cell-da3e9505b2482706",
     "locked": false,
     "schema_version": 3,
     "solution": true,
     "task": false
    }
   },
   "outputs": [],
   "source": [
    "# Use the code from the above cell to write a funtion in preparation for part c\n",
    "def AV_est(T, r, sig, S0, K, n, seed):\n",
    "    \"\"\"Estimating E(K-ST)^+ using antithetic variables\n",
    "    input: \n",
    "        T: Maturity Time\n",
    "        r: Risk-free interest rate\n",
    "        sig: volatility\n",
    "        S0: Current stock price\n",
    "        K: Strike price\n",
    "        n: total sample size (note: for antithetic variables, we generate int(n/2) samples and then take -Z)\n",
    "        seed: random seed\n",
    "    -------------------------------\n",
    "    output: (a 1-dim numpy array)\n",
    "            first element in the array:\n",
    "                estimation on the value of E^*[(K-S(T))^+] using antithetic variables\n",
    "            second element in the array:\n",
    "                estimation on the variance of the estimator\n",
    "    \"\"\"\n",
    "    np.random.seed(seed)\n",
    "    # YOUR CODE HERE\n",
    "    Z1 = np.random.randn(int(n/2))\n",
    "    gZ_anti = 0.5*(g(Z1, K, sig, r, T, S0)+g(-Z1, K, sig, r, T, S0))\n",
    "    AV_est_theta = np.mean(gZ_anti)\n",
    "    AV_var_theta = np.var(gZ_anti,ddof = 1)/len(gZ_anti)\n",
    "    \n",
    "    return np.array([AV_est_theta,AV_var_theta])\n",
    "    "
   ]
  },
  {
   "cell_type": "code",
   "execution_count": 13,
   "metadata": {
    "deletable": false,
    "editable": false,
    "nbgrader": {
     "cell_type": "code",
     "checksum": "4dea49a014fa3f7c759a1448aae27e96",
     "grade": true,
     "grade_id": "cell-6a3d232e76bfa790",
     "locked": true,
     "points": 2,
     "schema_version": 3,
     "solution": false,
     "task": false
    }
   },
   "outputs": [],
   "source": [
    "\"\"\"Check your answer here\"\"\"\n",
    "assert round(AV_est(2, 0.01, 0.2, 5, 6, 1000, 123)[0], 3) == 1.176\n",
    "assert round(AV_est(2, 0.01, 0.2, 5, 6, 1000, 123)[1], 5) == 7e-05"
   ]
  },
  {
   "cell_type": "markdown",
   "metadata": {
    "deletable": false,
    "editable": false,
    "nbgrader": {
     "cell_type": "markdown",
     "checksum": "cdb85bb5443be3b2392302b6c2206223",
     "grade": false,
     "grade_id": "cell-366ccb0a76a7da6b",
     "locked": true,
     "schema_version": 3,
     "solution": false,
     "task": false
    }
   },
   "source": [
    "(c) Apply the functions for $T=5, r=0.02, \\sigma=0.15, S(0)=5, K=6$ and with $n=100, 500, 1000, 5000$ samples. Report your results in a table. Comment on the relationship between $\\hat{\\theta}_n$ and $\\hat{\\theta}_{av}$ and the relationship between their estimated variances. "
   ]
  },
  {
   "cell_type": "code",
   "execution_count": 14,
   "metadata": {
    "deletable": false,
    "nbgrader": {
     "cell_type": "code",
     "checksum": "75f2482445d3e1ba8ef04636374198ce",
     "grade": false,
     "grade_id": "cell-f27ceb8380ea7316",
     "locked": false,
     "schema_version": 3,
     "solution": true,
     "task": false
    }
   },
   "outputs": [
    {
     "data": {
      "text/html": [
       "<div>\n",
       "<style scoped>\n",
       "    .dataframe tbody tr th:only-of-type {\n",
       "        vertical-align: middle;\n",
       "    }\n",
       "\n",
       "    .dataframe tbody tr th {\n",
       "        vertical-align: top;\n",
       "    }\n",
       "\n",
       "    .dataframe thead th {\n",
       "        text-align: right;\n",
       "    }\n",
       "</style>\n",
       "<table border=\"1\" class=\"dataframe\">\n",
       "  <thead>\n",
       "    <tr style=\"text-align: right;\">\n",
       "      <th></th>\n",
       "      <th>sample size</th>\n",
       "      <th>theta_n</th>\n",
       "      <th>theta_av</th>\n",
       "      <th>theta_n_var</th>\n",
       "      <th>theta_av_var</th>\n",
       "    </tr>\n",
       "  </thead>\n",
       "  <tbody>\n",
       "    <tr>\n",
       "      <th>0</th>\n",
       "      <td>100</td>\n",
       "      <td>NaN</td>\n",
       "      <td>NaN</td>\n",
       "      <td>NaN</td>\n",
       "      <td>NaN</td>\n",
       "    </tr>\n",
       "    <tr>\n",
       "      <th>1</th>\n",
       "      <td>500</td>\n",
       "      <td>NaN</td>\n",
       "      <td>NaN</td>\n",
       "      <td>NaN</td>\n",
       "      <td>NaN</td>\n",
       "    </tr>\n",
       "    <tr>\n",
       "      <th>2</th>\n",
       "      <td>1000</td>\n",
       "      <td>NaN</td>\n",
       "      <td>NaN</td>\n",
       "      <td>NaN</td>\n",
       "      <td>NaN</td>\n",
       "    </tr>\n",
       "    <tr>\n",
       "      <th>3</th>\n",
       "      <td>5000</td>\n",
       "      <td>NaN</td>\n",
       "      <td>NaN</td>\n",
       "      <td>NaN</td>\n",
       "      <td>NaN</td>\n",
       "    </tr>\n",
       "  </tbody>\n",
       "</table>\n",
       "</div>"
      ],
      "text/plain": [
       "   sample size theta_n theta_av theta_n_var theta_av_var\n",
       "0          100     NaN      NaN         NaN          NaN\n",
       "1          500     NaN      NaN         NaN          NaN\n",
       "2         1000     NaN      NaN         NaN          NaN\n",
       "3         5000     NaN      NaN         NaN          NaN"
      ]
     },
     "execution_count": 14,
     "metadata": {},
     "output_type": "execute_result"
    }
   ],
   "source": [
    "# import pandas as pd and create a dataframe called p1_result\n",
    "# the dataframe is with columns ['sample size', 'theta_n', 'theta_av', 'theta_n_var', 'theta_av_var']\n",
    "# sample size: [100, 500, 1000, 5000]\n",
    "\n",
    "# Create the dataframe and fill in the 'sample size' column with [100, 500, 1000, 5000]\n",
    "import pandas as pd\n",
    "\n",
    "# YOUR CODE HERE\n",
    "T=5\n",
    "r=0.02\n",
    "sig = 0.15\n",
    "S0=5\n",
    "K=6\n",
    "p1_result = pd.DataFrame(columns = ['sample size', 'theta_n', 'theta_av', 'theta_n_var', 'theta_av_var'])\n",
    "p1_result['sample size']  = [100, 500, 1000, 5000]\n",
    "p1_result"
   ]
  },
  {
   "cell_type": "code",
   "execution_count": 15,
   "metadata": {
    "deletable": false,
    "nbgrader": {
     "cell_type": "code",
     "checksum": "dd130f2009594ffc1db65ad0ad161972",
     "grade": false,
     "grade_id": "cell-44a82f546366c235",
     "locked": false,
     "schema_version": 3,
     "solution": true,
     "task": false
    }
   },
   "outputs": [],
   "source": [
    "seed = 5 # Fix the seed = 5 DO NOT CHANGE\n",
    "\n",
    "\"\"\"Fill the rest of the result table now\n",
    "theta_n: estimation using standard MC\n",
    "theta_av: estimation using MC with antithetic variables(AV)\n",
    "theta_n_var: estimated variance for the standard MC\n",
    "theta_av_var: estimated variance for the MC with AV\"\"\"\n",
    "\n",
    "# Hints:\n",
    "# theta_n: apply MC_est; the first element in the output of MC_est\n",
    "# theta_av: apply AV_est; the first element in the output of AV_est\n",
    "# theta_n_var: apply MC_est; the second element in the output of MC_est\n",
    "# theta_av_var: apply AV_est; the second element in the output of AV_est\n",
    "\n",
    "# YOUR CODE HERE\n",
    "for i in p1_result.index:\n",
    "    size = p1_result.loc[i,'sample size']\n",
    "    p1_result.loc[i,'theta_n'] = MC_est(T, r, sig, S0, K, size, seed)[0]\n",
    "    p1_result.loc[i,'theta_av'] = AV_est(T, r, sig, S0, K, size, seed)[0]\n",
    "    p1_result.loc[i,'theta_n_var'] = MC_est(T, r, sig, S0, K, size, seed)[1]\n",
    "    p1_result.loc[i,'theta_av_var'] = AV_est(T, r, sig, S0, K, size, seed)[1]"
   ]
  },
  {
   "cell_type": "code",
   "execution_count": 16,
   "metadata": {
    "deletable": false,
    "nbgrader": {
     "cell_type": "code",
     "checksum": "d287f21a7895d2921d744a9f402acebe",
     "grade": false,
     "grade_id": "cell-0e3a28e169afe564",
     "locked": false,
     "schema_version": 3,
     "solution": true,
     "task": false
    }
   },
   "outputs": [
    {
     "name": "stdout",
     "output_type": "stream",
     "text": [
      "   sample size   theta_n  theta_av theta_n_var theta_av_var\n",
      "0          100  0.937635  0.959436    0.008773     0.001579\n",
      "1          500  1.016169  1.008538    0.002096     0.000365\n",
      "2         1000  0.987074  1.020911    0.001071      0.00018\n",
      "3         5000  1.031489  1.026406     0.00023     0.000038\n"
     ]
    }
   ],
   "source": [
    "# print the result\n",
    "# YOUR CODE HERE\n",
    "p1_result"
   ]
  },
  {
   "cell_type": "code",
   "execution_count": 17,
   "metadata": {
    "deletable": false,
    "editable": false,
    "nbgrader": {
     "cell_type": "code",
     "checksum": "93b5bd852043ba7f425bd35076cbfc54",
     "grade": true,
     "grade_id": "cell-082343a977cb1eaf",
     "locked": true,
     "points": 1,
     "schema_version": 3,
     "solution": false,
     "task": false
    }
   },
   "outputs": [],
   "source": [
    "assert round(p1_result[p1_result['sample size'] == 100].theta_n.values[0], 2) == 0.94"
   ]
  },
  {
   "cell_type": "code",
   "execution_count": 18,
   "metadata": {
    "deletable": false,
    "editable": false,
    "nbgrader": {
     "cell_type": "code",
     "checksum": "b937628d62edbf670e556555d8e0cd83",
     "grade": true,
     "grade_id": "cell-d601193744f6561c",
     "locked": true,
     "points": 1,
     "schema_version": 3,
     "solution": false,
     "task": false
    }
   },
   "outputs": [],
   "source": [
    "assert round(p1_result[p1_result['sample size'] == 500].theta_av.values[0], 2) == 1.01"
   ]
  },
  {
   "cell_type": "code",
   "execution_count": 19,
   "metadata": {
    "deletable": false,
    "editable": false,
    "nbgrader": {
     "cell_type": "code",
     "checksum": "a11a28d7745d6779e1aa8c4d5c3e5b0d",
     "grade": true,
     "grade_id": "cell-235728d6ce65f204",
     "locked": true,
     "points": 1,
     "schema_version": 3,
     "solution": false,
     "task": false
    }
   },
   "outputs": [],
   "source": [
    "assert round(p1_result[p1_result['sample size'] == 1000].theta_n_var.values[0], 3) == 0.001"
   ]
  },
  {
   "cell_type": "code",
   "execution_count": 20,
   "metadata": {
    "deletable": false,
    "editable": false,
    "nbgrader": {
     "cell_type": "code",
     "checksum": "e02b2468f52b800b84d4e895a3ce3a3f",
     "grade": true,
     "grade_id": "cell-48a4bef73500ed6e",
     "locked": true,
     "points": 1,
     "schema_version": 3,
     "solution": false,
     "task": false
    }
   },
   "outputs": [],
   "source": [
    "assert round(p1_result[p1_result['sample size'] == 5000].theta_av_var.values[0], 6) == 3.8e-05"
   ]
  },
  {
   "cell_type": "markdown",
   "metadata": {
    "deletable": false,
    "editable": false,
    "nbgrader": {
     "cell_type": "markdown",
     "checksum": "8c750b0391063a0f0a72572566233560",
     "grade": false,
     "grade_id": "cell-57fd090c855db89d",
     "locked": true,
     "schema_version": 3,
     "solution": false,
     "task": false
    }
   },
   "source": [
    "In the cell, below, comment on the relationship between $\\hat{\\theta}_n$ and $\\hat{\\theta}_{av}$.  "
   ]
  },
  {
   "cell_type": "markdown",
   "metadata": {
    "deletable": false,
    "editable": false,
    "nbgrader": {
     "cell_type": "markdown",
     "checksum": "902fe5a7463474fea4ae51149e8d87c5",
     "grade": false,
     "grade_id": "cell-6b87f9dcc5b2858b",
     "locked": true,
     "points": 1,
     "schema_version": 3,
     "solution": false,
     "task": true
    }
   },
   "source": [
    "In the cell, below, comment on the relationship between $\\hat{\\theta}_n$ and $\\hat{\\theta}_{av}$.  "
   ]
  },
  {
   "cell_type": "markdown",
   "metadata": {
    "deletable": false,
    "editable": false,
    "nbgrader": {
     "cell_type": "markdown",
     "checksum": "9691620391f440ac03d8d2a418269f92",
     "grade": false,
     "grade_id": "cell-b67f16d8c2a01049",
     "locked": true,
     "schema_version": 3,
     "solution": false,
     "task": false
    }
   },
   "source": [
    "# Problem 2 (17 points)\n",
    "The goal is to compare the performance in computing the initial price for a European derivative using importance sampling versus standard Monte Carlo sampling.\n",
    "\n",
    "Consider $g(Z)=20\\times\\mathbf{1}_{\\{Z\\geq 3\\}}$, where $Z\\sim\\mathcal{N}(0,1)$. Suppose the inital price for this option is given by $$\\theta=20 E^*[\\mathbf{1}_{\\{Z\\geq 3\\}}].$$"
   ]
  },
  {
   "cell_type": "markdown",
   "metadata": {
    "deletable": false,
    "editable": false,
    "nbgrader": {
     "cell_type": "markdown",
     "checksum": "69d2cdaadb0069710c69622d368e5fc2",
     "grade": false,
     "grade_id": "cell-fb1c1ebfe50654f2",
     "locked": true,
     "schema_version": 3,
     "solution": false,
     "task": false
    }
   },
   "source": [
    "(a) Draw all graphs as required in the homework by hand. (submit this part in Gradescope)"
   ]
  },
  {
   "cell_type": "markdown",
   "metadata": {
    "deletable": false,
    "editable": false,
    "nbgrader": {
     "cell_type": "markdown",
     "checksum": "a264a19f05afe59acc46af0482bc5cb4",
     "grade": false,
     "grade_id": "cell-7476aba805ff416c",
     "locked": true,
     "schema_version": 3,
     "solution": false,
     "task": false
    }
   },
   "source": [
    "(b) Write a function to estimate $\\theta$ using standard Monte Carlo simulation, to estimate variance of $\\hat{\\theta}_n^f$ using $\\hat{\\sigma}_n^{2,f}=\\frac{1}{n-1}\\sum_{i=1}^n(g(Z_i-\\hat{\\theta}_n^f)^2$ where $\\{Z_i\\}_{i=1}^n$ are i.i.d. samples for $Z$. (5 points)"
   ]
  },
  {
   "cell_type": "code",
   "execution_count": 21,
   "metadata": {
    "deletable": false,
    "nbgrader": {
     "cell_type": "code",
     "checksum": "2a3644563eddc6602247004976931d4c",
     "grade": false,
     "grade_id": "cell-2147678a4c17fe66",
     "locked": false,
     "schema_version": 3,
     "solution": true,
     "task": false
    }
   },
   "outputs": [],
   "source": [
    "# generate Z = np.random.normal(0, 1, 100) and then assign gZ = g(Z)\n",
    "np.random.seed(1)\n",
    "# YOUR CODE HERE\n",
    "Z = np.random.normal(0, 1, 100)\n",
    "\n",
    "gZ = np.array([20 if z >=3 else 0 for z in Z])"
   ]
  },
  {
   "cell_type": "code",
   "execution_count": 22,
   "metadata": {
    "deletable": false,
    "editable": false,
    "nbgrader": {
     "cell_type": "code",
     "checksum": "87cd2343f72bf57f028ea1afce003b7d",
     "grade": true,
     "grade_id": "cell-4ca919c05fe226f4",
     "locked": true,
     "points": 1,
     "schema_version": 3,
     "solution": false,
     "task": false
    }
   },
   "outputs": [],
   "source": [
    "assert sum(gZ) == 0"
   ]
  },
  {
   "cell_type": "code",
   "execution_count": 23,
   "metadata": {
    "deletable": false,
    "nbgrader": {
     "cell_type": "code",
     "checksum": "3c7bf889eff92b445bb4144eeee19ebb",
     "grade": false,
     "grade_id": "cell-c494bb8562ebf1e0",
     "locked": false,
     "schema_version": 3,
     "solution": true,
     "task": false
    }
   },
   "outputs": [],
   "source": [
    "# write a function called MC_est_digital to estimate \\theta and compute variance of the the estimator\n",
    "def MC_est_digital(n, seed):\n",
    "    \"\"\"\n",
    "    input: \n",
    "        n: Monte Carlo sample size \n",
    "        seed: random seed\n",
    "    output: (a 1-dim numpy array) \n",
    "        EX_g: estimation of theta\n",
    "        var_g: estimated variance of the estimator \\hat{theta}_n\n",
    "    \"\"\"\n",
    "    np.random.seed(seed)\n",
    "    # YOUR CODE HERE\n",
    "    Z = np.random.normal(0, 1, n)\n",
    "    gZ = np.array([20 if z >=3 else 0 for z in Z])\n",
    "    EX_g = np.mean(gZ)\n",
    "    var_g = np.var(gZ,ddof = 1)/n\n",
    "    \n",
    "    return np.array([EX_g,var_g])"
   ]
  },
  {
   "cell_type": "code",
   "execution_count": 24,
   "metadata": {
    "deletable": false,
    "editable": false,
    "nbgrader": {
     "cell_type": "code",
     "checksum": "9c8e7aeff7c2e3ad48f1cddc6ecbc32b",
     "grade": true,
     "grade_id": "cell-6781f33e96b0a2f3",
     "locked": true,
     "points": 4,
     "schema_version": 3,
     "solution": false,
     "task": false
    }
   },
   "outputs": [],
   "source": [
    "assert MC_est_digital(1000, 123)[0] == 0.02\n",
    "assert MC_est_digital(1000, 123)[1] == 0.0004"
   ]
  },
  {
   "cell_type": "markdown",
   "metadata": {
    "deletable": false,
    "editable": false,
    "nbgrader": {
     "cell_type": "markdown",
     "checksum": "00ed5a95dab4a7ca2224149ed38d5c7f",
     "grade": false,
     "grade_id": "cell-31e6d09291c4d911",
     "locked": true,
     "schema_version": 3,
     "solution": false,
     "task": false
    }
   },
   "source": [
    "(c) Write another function called *IMP_est* to estimate $\\theta$ using a Monte Carlo importance sampling method. "
   ]
  },
  {
   "cell_type": "code",
   "execution_count": 25,
   "metadata": {
    "deletable": false,
    "nbgrader": {
     "cell_type": "code",
     "checksum": "65823dac414ce6c24d0d348175ca368b",
     "grade": false,
     "grade_id": "cell-149e0664f9e7475f",
     "locked": false,
     "schema_version": 3,
     "solution": true,
     "task": false
    }
   },
   "outputs": [
    {
     "data": {
      "text/plain": [
       "1.930055194698274"
      ]
     },
     "execution_count": 25,
     "metadata": {},
     "output_type": "execute_result"
    }
   ],
   "source": [
    "# generate Zmu (including 100 data points) from the normal(4, 1) distribution and compute kZ = k(Z)\n",
    "np.random.seed(3)\n",
    "# YOUR CODE HERE\n",
    "mu = 3\n",
    "Zmu = np.random.normal(mu, 1, 100)\n",
    "kZ = np.array([20 if z >=3 else 0 for z in Zmu])*np.exp(-mu*Zmu+0.5*(mu**2))\n",
    "sum(kZ)"
   ]
  },
  {
   "cell_type": "code",
   "execution_count": 26,
   "metadata": {
    "deletable": false,
    "editable": false,
    "nbgrader": {
     "cell_type": "code",
     "checksum": "816c137f02dfbf76396dc188176618de",
     "grade": true,
     "grade_id": "cell-c9c5d6dfe0c50610",
     "locked": true,
     "points": 2,
     "schema_version": 3,
     "solution": false,
     "task": false
    }
   },
   "outputs": [],
   "source": [
    "assert round(sum(kZ), 2) == 1.93"
   ]
  },
  {
   "cell_type": "code",
   "execution_count": 31,
   "metadata": {
    "deletable": false,
    "nbgrader": {
     "cell_type": "code",
     "checksum": "e35f8f097b33de1fe450e7e66855c69a",
     "grade": false,
     "grade_id": "cell-7b2629089998a288",
     "locked": false,
     "schema_version": 3,
     "solution": true,
     "task": false
    }
   },
   "outputs": [
    {
     "data": {
      "text/plain": [
       "array([2.67270676e-02, 2.54133379e-06])"
      ]
     },
     "execution_count": 31,
     "metadata": {},
     "output_type": "execute_result"
    }
   ],
   "source": [
    "# write a function called IMP_est_digital to estimate \\theta and compute variance of the the estimator \n",
    "# using importance sampling\n",
    "def IMP_est_digital(n, seed): \n",
    "    \"\"\"\n",
    "    input: \n",
    "        n: Monte Carlo sample size \n",
    "        seed: random seed\n",
    "    output: (a 1-dim numpy array) \n",
    "        imp_EX_k: estimation of theta\n",
    "        imp_var_k: estimated variance of the estimator \\hat{theta}_n\n",
    "    \"\"\"\n",
    "    np.random.seed(seed)\n",
    "    # YOUR CODE HERE\n",
    "    mu = 3\n",
    "    Zmu = np.random.normal(mu, 1, n)\n",
    "    kZ = np.array([20 if z >=3 else 0 for z in Zmu])*np.exp(-mu*Zmu+0.5*(mu**2))\n",
    "    imp_EX_k = np.mean(kZ)\n",
    "    imp_var_k = np.var(kZ,ddof = 1)/n\n",
    "    \n",
    "    return np.array([imp_EX_k,imp_var_k])\n",
    "\n",
    "IMP_est_digital(1000, 123)"
   ]
  },
  {
   "cell_type": "code",
   "execution_count": 28,
   "metadata": {
    "deletable": false,
    "editable": false,
    "nbgrader": {
     "cell_type": "code",
     "checksum": "fbf7b67a9212b2b685a01eeefd01f226",
     "grade": true,
     "grade_id": "cell-0c4fb60286620087",
     "locked": true,
     "points": 3,
     "schema_version": 3,
     "solution": false,
     "task": false
    }
   },
   "outputs": [
    {
     "ename": "AssertionError",
     "evalue": "",
     "output_type": "error",
     "traceback": [
      "\u001b[0;31m---------------------------------------------------------------------------\u001b[0m",
      "\u001b[0;31mAssertionError\u001b[0m                            Traceback (most recent call last)",
      "\u001b[0;32m/tmp/ipykernel_91/1921551621.py\u001b[0m in \u001b[0;36m<module>\u001b[0;34m\u001b[0m\n\u001b[0;32m----> 1\u001b[0;31m \u001b[0;32massert\u001b[0m \u001b[0mround\u001b[0m\u001b[0;34m(\u001b[0m\u001b[0mIMP_est_digital\u001b[0m\u001b[0;34m(\u001b[0m\u001b[0;36m1000\u001b[0m\u001b[0;34m,\u001b[0m \u001b[0;36m123\u001b[0m\u001b[0;34m)\u001b[0m\u001b[0;34m[\u001b[0m\u001b[0;36m0\u001b[0m\u001b[0;34m]\u001b[0m\u001b[0;34m,\u001b[0m \u001b[0;36m6\u001b[0m\u001b[0;34m)\u001b[0m \u001b[0;34m==\u001b[0m \u001b[0;36m0.032283\u001b[0m\u001b[0;34m\u001b[0m\u001b[0;34m\u001b[0m\u001b[0m\n\u001b[0m\u001b[1;32m      2\u001b[0m \u001b[0;32massert\u001b[0m \u001b[0mround\u001b[0m\u001b[0;34m(\u001b[0m\u001b[0mIMP_est_digital\u001b[0m\u001b[0;34m(\u001b[0m\u001b[0;36m1000\u001b[0m\u001b[0;34m,\u001b[0m \u001b[0;36m123\u001b[0m\u001b[0;34m)\u001b[0m\u001b[0;34m[\u001b[0m\u001b[0;36m1\u001b[0m\u001b[0;34m]\u001b[0m\u001b[0;34m,\u001b[0m \u001b[0;36m11\u001b[0m\u001b[0;34m)\u001b[0m \u001b[0;34m==\u001b[0m \u001b[0;36m3.64872e-06\u001b[0m\u001b[0;34m\u001b[0m\u001b[0;34m\u001b[0m\u001b[0m\n",
      "\u001b[0;31mAssertionError\u001b[0m: "
     ]
    }
   ],
   "source": [
    "assert round(IMP_est_digital(1000, 123)[0], 6) == 0.032283\n",
    "assert round(IMP_est_digital(1000, 123)[1], 11) == 3.64872e-06"
   ]
  },
  {
   "cell_type": "markdown",
   "metadata": {
    "deletable": false,
    "editable": false,
    "nbgrader": {
     "cell_type": "markdown",
     "checksum": "e0646235011e9518312568a1dc592036",
     "grade": false,
     "grade_id": "cell-a2727714acf70417",
     "locked": true,
     "schema_version": 3,
     "solution": false,
     "task": false
    }
   },
   "source": [
    "(d) Run the functions (*MC_est_digital*, *IMP_est_digital*) above for $n=100, 500, 1000$. Compare the estimated values of $\\theta$ and their variances for the two methods. Comment on your results. Notice the difference in estimated initial prices if one were to sell a million of these digital options at time zero."
   ]
  },
  {
   "cell_type": "code",
   "execution_count": null,
   "metadata": {
    "deletable": false,
    "nbgrader": {
     "cell_type": "code",
     "checksum": "2a2d62e26dba579ff30473ae7258464c",
     "grade": true,
     "grade_id": "cell-bea8303fedb3931a",
     "locked": false,
     "points": 2,
     "schema_version": 3,
     "solution": true,
     "task": false
    }
   },
   "outputs": [],
   "source": [
    "# Similarly, create pandas dataframe: p2_result \n",
    "# columns=['sample size', 'theta', 'est_var', 'imp_theta', 'imp_var']\n",
    "# fill in the 'sample size' column with np.array([100, 500, 1000], int)\n",
    "\n",
    "# YOUR CODE HERE\n",
    "p2_result = pd.DataFrame(columns = ['sample size', 'theta', 'est_var', 'imp_theta', 'imp_var'])\n",
    "p2_result['sample size']  = [100, 500, 1000, 5000]\n",
    "p2_result"
   ]
  },
  {
   "cell_type": "code",
   "execution_count": null,
   "metadata": {
    "deletable": false,
    "nbgrader": {
     "cell_type": "code",
     "checksum": "edd13c7518ca1d98acc7b6d5e43dd4a5",
     "grade": false,
     "grade_id": "cell-6637624212418c36",
     "locked": false,
     "schema_version": 3,
     "solution": true,
     "task": false
    }
   },
   "outputs": [],
   "source": [
    "seed = 5 # SET A SEED; DO NOT CHANGE\n",
    "\n",
    "# fill in the columns using functions: MC_est_digital, IMP_est_digital\n",
    "# theta: first output of MC_est_digital\n",
    "# est_var: second output of MC_est_digital\n",
    "# imp_theta: first output of IMP_est_digital\n",
    "# imp_var: second output of IMP_est_digital\n",
    "\n",
    "# YOUR CODE HERE\n",
    "for i in p2_result.index:\n",
    "    size = p2_result.loc[i,'sample size']\n",
    "    p2_result.loc[i,'theta'] = MC_est_digital(size, seed)[0]\n",
    "    p2_result.loc[i,'est_var'] = MC_est_digital(size, seed)[1]\n",
    "    p2_result.loc[i,'imp_theta'] = IMP_est_digital(size, seed)[0]\n",
    "    p2_result.loc[i,'imp_var'] = IMP_est_digital(size, seed)[1]"
   ]
  },
  {
   "cell_type": "code",
   "execution_count": null,
   "metadata": {
    "deletable": false,
    "editable": false,
    "nbgrader": {
     "cell_type": "code",
     "checksum": "195497d345efaa6590a18322f9b3c367",
     "grade": false,
     "grade_id": "cell-57acc111b78a5af2",
     "locked": true,
     "schema_version": 3,
     "solution": false,
     "task": false
    }
   },
   "outputs": [],
   "source": [
    "# print your p2_result\n",
    "p2_result"
   ]
  },
  {
   "cell_type": "code",
   "execution_count": null,
   "metadata": {
    "deletable": false,
    "editable": false,
    "nbgrader": {
     "cell_type": "code",
     "checksum": "9ac5cb27b9767f6c88c5c72d716779cd",
     "grade": true,
     "grade_id": "cell-07186f9c0b9bd746",
     "locked": true,
     "points": 3,
     "schema_version": 3,
     "solution": false,
     "task": false
    }
   },
   "outputs": [],
   "source": [
    "assert round(p2_result[p2_result['sample size'] == 100].imp_theta.values[0], 4) == 0.0385\n",
    "assert round(p2_result[p2_result['sample size'] == 100].imp_var.values[0], 10) == 3.80045e-05"
   ]
  },
  {
   "cell_type": "markdown",
   "metadata": {
    "deletable": false,
    "editable": false,
    "nbgrader": {
     "cell_type": "markdown",
     "checksum": "17b82af9f316c04bf40da61d072eb292",
     "grade": false,
     "grade_id": "cell-c9266f1eb09f88d6",
     "locked": true,
     "schema_version": 3,
     "solution": false,
     "task": false
    }
   },
   "source": [
    "Comment on your results in the cell below. "
   ]
  },
  {
   "cell_type": "markdown",
   "metadata": {
    "deletable": false,
    "nbgrader": {
     "cell_type": "markdown",
     "checksum": "d0f2952ac3bf5abd6179f3be566a12f3",
     "grade": true,
     "grade_id": "cell-9f32138bf9701bbf",
     "locked": false,
     "points": 2,
     "schema_version": 3,
     "solution": true,
     "task": false
    }
   },
   "source": [
    "YOUR ANSWER HERE"
   ]
  }
 ],
 "metadata": {
  "kernelspec": {
   "display_name": "Python 3 (ipykernel)",
   "language": "python",
   "name": "python3"
  },
  "language_info": {
   "codemirror_mode": {
    "name": "ipython",
    "version": 3
   },
   "file_extension": ".py",
   "mimetype": "text/x-python",
   "name": "python",
   "nbconvert_exporter": "python",
   "pygments_lexer": "ipython3",
   "version": "3.9.5"
  }
 },
 "nbformat": 4,
 "nbformat_minor": 4
}
